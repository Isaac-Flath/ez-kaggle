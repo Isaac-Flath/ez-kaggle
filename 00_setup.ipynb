{
 "cells": [
  {
   "cell_type": "code",
   "execution_count": null,
   "metadata": {},
   "outputs": [],
   "source": [
    "#| default_exp setup"
   ]
  },
  {
   "cell_type": "code",
   "execution_count": null,
   "metadata": {},
   "outputs": [],
   "source": [
    "%load_ext autoreload\n",
    "%autoreload 2"
   ]
  },
  {
   "cell_type": "markdown",
   "metadata": {},
   "source": [
    "# ez_kaggle.setup\n",
    "\n",
    "> Foundational set up for kaggle api usage and config"
   ]
  },
  {
   "cell_type": "code",
   "execution_count": null,
   "metadata": {},
   "outputs": [],
   "source": [
    "#|hide\n",
    "from nbdev.showdoc import *"
   ]
  },
  {
   "cell_type": "code",
   "execution_count": null,
   "metadata": {},
   "outputs": [],
   "source": [
    "#|export\n",
    "import os, json\n",
    "from pathlib import Path"
   ]
  },
  {
   "cell_type": "code",
   "execution_count": null,
   "metadata": {},
   "outputs": [],
   "source": [
    "#| hide\n",
    "from fastcore.test import *"
   ]
  },
  {
   "cell_type": "markdown",
   "metadata": {},
   "source": [
    "## General"
   ]
  },
  {
   "cell_type": "code",
   "execution_count": null,
   "metadata": {},
   "outputs": [],
   "source": [
    "#|export\n",
    "iskaggle = os.environ.get('KAGGLE_KERNEL_RUN_TYPE', '')"
   ]
  },
  {
   "cell_type": "code",
   "execution_count": null,
   "metadata": {},
   "outputs": [],
   "source": [
    "#|export\n",
    "def import_kaggle():\n",
    "    \"Import kaggle API, using Kaggle secrets `kaggle_username` and `kaggle_key` if needed\"\n",
    "    if iskaggle:\n",
    "        from kaggle_secrets import UserSecretsClient\n",
    "        sec = UserSecretsClient()\n",
    "        os.environ['KAGGLE_USERNAME'] = sec.get_secret(\"kaggle_username\")\n",
    "        if not os.environ['KAGGLE_USERNAME']: raise Exception(\"Please insert your Kaggle username and key into Kaggle secrets\")\n",
    "        os.environ['KAGGLE_KEY'] = sec.get_secret(\"kaggle_key\")\n",
    "    from kaggle import api\n",
    "    return api"
   ]
  },
  {
   "cell_type": "code",
   "execution_count": null,
   "metadata": {},
   "outputs": [
    {
     "name": "stdout",
     "output_type": "stream",
     "text": [
      "[spaceship-titanic, titanic]\n"
     ]
    }
   ],
   "source": [
    "api = import_kaggle()\n",
    "res = api.competitions_list(search='titanic')\n",
    "assert len(res) > 0\n",
    "print(res)"
   ]
  },
  {
   "cell_type": "code",
   "execution_count": null,
   "metadata": {},
   "outputs": [],
   "source": [
    "#|export\n",
    "def get_username(): \n",
    "    from kaggle import KaggleApi\n",
    "    ka = KaggleApi()\n",
    "    env = ka.read_config_file()\n",
    "    conf = ka.read_config_environment()\n",
    "    cred = conf if not env else env\n",
    "    return cred['username']"
   ]
  },
  {
   "cell_type": "markdown",
   "metadata": {},
   "source": [
    "## Conpetition"
   ]
  },
  {
   "cell_type": "code",
   "execution_count": null,
   "metadata": {},
   "outputs": [],
   "source": [
    "#|export\n",
    "def get_comp_data(competition, install=''):\n",
    "    \"Get a path to data for `competition`, downloading it if needed\"\n",
    "    if iskaggle:\n",
    "        if install: os.system(f'pip install -Uqq {install}')\n",
    "        return Path('../input')/competition\n",
    "    else:\n",
    "        path = Path(competition)\n",
    "        api = import_kaggle()\n",
    "        if not path.exists():\n",
    "            import zipfile\n",
    "            api.competition_download_cli(str(competition))\n",
    "            zipfile.ZipFile(f'{competition}.zip').extractall(str(competition))\n",
    "        return path"
   ]
  },
  {
   "cell_type": "code",
   "execution_count": null,
   "metadata": {},
   "outputs": [],
   "source": [
    "path = get_comp_data('titanic')\n",
    "assert path == Path('titanic')\n",
    "assert path.exists()\n",
    "assert path.ls().sorted() == [Path('titanic/gender_submission.csv'),Path('titanic/test.csv'),Path('titanic/train.csv')]"
   ]
  },
  {
   "cell_type": "code",
   "execution_count": null,
   "metadata": {},
   "outputs": [],
   "source": [
    "#| export\n",
    "def competition_config(\n",
    "    competition, # ie titanic\n",
    "    data_path=None,\n",
    "    dataset_username=None, #ie isaacflath\n",
    "    model_dataset_name=None, #ie 'models-pawpularity'\n",
    "    libraries_dataset_name=None, #ie 'libraries-pawpularity'\n",
    "    required_libraries=None, #ie ['fastkaggle','fastai']\n",
    "    pip_cmd = 'pip'\n",
    "):\n",
    "    config = {'competition':competition,\n",
    "              'pip_cmd':pip_cmd,\n",
    "             'data_path':data_path}\n",
    "              \n",
    "    if dataset_username is None:\n",
    "        print('Inferring dataset_username from credentials')\n",
    "        config['datasets_username'] = get_username()\n",
    "        \n",
    "    if model_dataset_name is None:\n",
    "        print('Inferring model_dataset_name from competition')\n",
    "        config['model_dataset_name'] = f\"models-{competition}\"\n",
    "        \n",
    "    if libraries_dataset_name is None:\n",
    "        print('Inferring libraries_dataset_name from competition')\n",
    "        config['libraries_dataset_name'] = f\"libraries-{competition}\"\n",
    "        \n",
    "    if required_libraries is None: \n",
    "        print(\"Setting required libraries to ['fastkaggle']\")\n",
    "        config['required_libraries'] = required_libraries = ['fastkaggle']\n",
    "    return config"
   ]
  },
  {
   "cell_type": "code",
   "execution_count": null,
   "metadata": {},
   "outputs": [
    {
     "name": "stdout",
     "output_type": "stream",
     "text": [
      "Inferring dataset_username from credentials\n",
      "Inferring model_dataset_name from competition\n",
      "Inferring libraries_dataset_name from competition\n",
      "Setting required libraries to ['fastkaggle']\n",
      "{\n",
      "    \"competition\": \"titanic\",\n",
      "    \"pip_cmd\": \"pip\",\n",
      "    \"data_path\": null,\n",
      "    \"datasets_username\": \"isaacflath\",\n",
      "    \"model_dataset_name\": \"models-titanic\",\n",
      "    \"libraries_dataset_name\": \"libraries-titanic\",\n",
      "    \"required_libraries\": [\n",
      "        \"fastkaggle\"\n",
      "    ]\n",
      "}\n"
     ]
    }
   ],
   "source": [
    "cfg = competition_config('titanic')\n",
    "test_eq(cfg.keys(),['competition', 'pip_cmd', 'data_path', 'datasets_username', 'model_dataset_name', 'libraries_dataset_name', 'required_libraries'])\n",
    "print(json.dumps(cfg,indent=4))"
   ]
  },
  {
   "cell_type": "code",
   "execution_count": null,
   "metadata": {},
   "outputs": [],
   "source": [
    "#| export\n",
    "def setup_comp(competition, install='',dataset_username=None,model_dataset_name=None,libraries_dataset_name=None, required_libraries=None,pip_cmd='pip'):\n",
    "    path = get_comp_data(competition,install)\n",
    "    cfg = competition_config(competition,str(path.parent),dataset_username,model_dataset_name,libraries_dataset_name, required_libraries,pip_cmd)\n",
    "    json.dump(cfg,open('fastkaggle.json','w'))"
   ]
  },
  {
   "cell_type": "code",
   "execution_count": null,
   "metadata": {},
   "outputs": [
    {
     "name": "stdout",
     "output_type": "stream",
     "text": [
      "Inferring dataset_username from credentials\n",
      "Inferring model_dataset_name from competition\n",
      "Inferring libraries_dataset_name from competition\n",
      "Setting required libraries to ['fastkaggle']\n"
     ]
    }
   ],
   "source": [
    "setup_comp('titanic')\n",
    "assert Path('fastkaggle.json').exists()"
   ]
  },
  {
   "cell_type": "code",
   "execution_count": null,
   "metadata": {},
   "outputs": [],
   "source": [
    "#| export\n",
    "def get_config_values(path='.',**cfg_overrides):\n",
    "    if path == None: cfg = {}\n",
    "    else: cfg = json.load(open(Path(path)/'fastkaggle.json','r'))\n",
    "    if cfg_overrides: cfg.update(cfg_overrides)\n",
    "    return cfg"
   ]
  },
  {
   "cell_type": "code",
   "execution_count": null,
   "metadata": {},
   "outputs": [
    {
     "name": "stdout",
     "output_type": "stream",
     "text": [
      "{\n",
      "    \"competition\": \"titanic\",\n",
      "    \"pip_cmd\": \"pip\",\n",
      "    \"data_path\": \".\",\n",
      "    \"datasets_username\": \"isaacflath\",\n",
      "    \"model_dataset_name\": \"models-titanic\",\n",
      "    \"libraries_dataset_name\": \"libraries-titanic\",\n",
      "    \"required_libraries\": [\n",
      "        \"fastkaggle\"\n",
      "    ]\n",
      "}\n"
     ]
    }
   ],
   "source": [
    "cfg = get_config_values() \n",
    "test_eq(cfg.keys(),['competition', 'pip_cmd', 'data_path', 'datasets_username', 'model_dataset_name', 'libraries_dataset_name', 'required_libraries'])\n",
    "print(json.dumps(cfg,indent=4))"
   ]
  },
  {
   "cell_type": "code",
   "execution_count": null,
   "metadata": {},
   "outputs": [
    {
     "name": "stdout",
     "output_type": "stream",
     "text": [
      "{\n",
      "    \"competition\": 123,\n",
      "    \"pip_cmd\": 4,\n",
      "    \"data_path\": \".\",\n",
      "    \"datasets_username\": \"isaacflath\",\n",
      "    \"model_dataset_name\": \"models-titanic\",\n",
      "    \"libraries_dataset_name\": \"libraries-titanic\",\n",
      "    \"required_libraries\": [\n",
      "        \"fastkaggle\"\n",
      "    ]\n",
      "}\n"
     ]
    }
   ],
   "source": [
    "cfg = get_config_values(competition=123,pip_cmd=4) \n",
    "print(json.dumps(cfg,indent=4))"
   ]
  },
  {
   "cell_type": "markdown",
   "metadata": {},
   "source": [
    "## Export -"
   ]
  },
  {
   "cell_type": "code",
   "execution_count": null,
   "metadata": {},
   "outputs": [],
   "source": [
    "#|hide\n",
    "#|eval: false\n",
    "from nbdev.doclinks import nbdev_export\n",
    "nbdev_export()"
   ]
  },
  {
   "cell_type": "code",
   "execution_count": null,
   "metadata": {},
   "outputs": [],
   "source": []
  }
 ],
 "metadata": {
  "kernelspec": {
   "display_name": "Python 3 (ipykernel)",
   "language": "python",
   "name": "python3"
  }
 },
 "nbformat": 4,
 "nbformat_minor": 4
}
